{
 "cells": [
  {
   "cell_type": "markdown",
   "metadata": {},
   "source": [
    "# Data Collection"
   ]
  },
  {
   "cell_type": "code",
   "execution_count": null,
   "metadata": {},
   "outputs": [],
   "source": [
    "# Block - 01\n",
    "\n",
    "from hand_detector import HandDetector\n",
    "import os\n",
    "import cv2\n",
    "import numpy as np\n",
    "import pandas as pd"
   ]
  },
  {
   "cell_type": "code",
   "execution_count": null,
   "metadata": {},
   "outputs": [],
   "source": [
    "# Block - 02\n",
    "\n",
    "urdu_signs_mapper = {\n",
    "    \"Alif\": 1,       # ا\n",
    "    \"Bay\": 2,        # ب\n",
    "    \"Pay\": 3,        # پ\n",
    "    \"Tay\": 4,        # ت\n",
    "    \"Ttay\": 5,       # ٹ\n",
    "    \"Say\": 6,        # ث\n",
    "    \"Chay\": 7,       # چ\n",
    "    \"Hay\": 8,        # ح\n",
    "    \"Khay\": 9,       # خ\n",
    "    \"Daal\": 10,      # د\n",
    "    \"Ddaal\": 11,     # ڈ\n",
    "    \"Zaal\": 12,      # ذ\n",
    "    \"Raa\": 13,       # ر\n",
    "    \"Zaa\": 14,       # ز\n",
    "    \"Saa\": 15,       # ژ\n",
    "    \"Seen\": 16,      # س\n",
    "    \"Sheen\": 17,     # ش\n",
    "    \"Saad\": 18,      # ص\n",
    "    \"Zaad\": 19,      # ض\n",
    "    \"Tua\": 20,       # ط\n",
    "    \"Zua\": 21,       # ظ\n",
    "    \"Ain\": 22,       # ع\n",
    "    \"Ghien\": 23,     # غ\n",
    "    \"Faa\": 24,       # ف\n",
    "    \"Qaaf\": 25,      # ق\n",
    "    \"Kaaf\": 26,      # ک\n",
    "    \"Ghaaf\": 27,     # گ\n",
    "    \"Laam\": 28,      # ل\n",
    "    \"Meem\": 29,      # م\n",
    "    \"Noon\": 30,      # ن\n",
    "    \"Wao\": 31,       # و\n",
    "    \"Hamza\": 32,     # ء\n",
    "    \"Choti_yeh\": 33, # ے\n",
    "    \"Bari_yeh\": 34,  # ی\n",
    "    \"Hah\": 35,       # ہ\n",
    "    \"No Sign\": 36    # No Sign\n",
    "}\n",
    "\n",
    "urdu_signs_mapper = {value:key for key, value in urdu_signs_mapper.items()}\n",
    "urdu_signs_mapper"
   ]
  },
  {
   "cell_type": "code",
   "execution_count": null,
   "metadata": {},
   "outputs": [],
   "source": [
    "# Block - 03\n",
    "\n",
    "class DataCollection:\n",
    "    \n",
    "    def __init__(self):\n",
    "        self.urdu_sign_mapper = None\n",
    "        self.hand_sign_coordinates = dict()\n",
    "        self.detector = HandDetector(maxHands=2)\n",
    "        self.cap = None\n",
    "    \n",
    "    def capture_images(self, label:int) -> list:\n",
    "        count = 0\n",
    "        temp = []\n",
    "        self.cap = cv2.VideoCapture(0)\n",
    "        while True:\n",
    "            success, frame = self.cap.read()\n",
    "            key = cv2.waitKey(1)\n",
    "            if key == ord(\"q\"):\n",
    "                return temp\n",
    "            if success:\n",
    "                hands, frame = self.detector.findHands(frame, draw=True)\n",
    "                if hands:\n",
    "                    hand = hands[0]\n",
    "                    if key == ord(\"s\"):\n",
    "                        landmarks = self.preprocess(np.array(hand['lmList']).flatten())\n",
    "                        temp.append(landmarks)\n",
    "                        count += 1\n",
    "            else:\n",
    "                break\n",
    "            cv2.putText(frame, f\"Images: {count}\", (45, 45), cv2.FONT_HERSHEY_SIMPLEX, 1, (255, 0, 0), 2)\n",
    "            # cv2.putText(frame, f\"Label: {urdu_sign_mapper[label]}\", (45, 90), cv2.FONT_HERSHEY_SIMPLEX, 1, (255, 0, 0), 2)\n",
    "            cv2.putText(frame, f\"Label: {label}\", (45, 90), cv2.FONT_HERSHEY_SIMPLEX, 1, (255, 0, 0), 2)\n",
    "            cv2.imshow(\"image\", frame)\n",
    "        return temp\n",
    "    \n",
    "    def preprocess(self, landmarks):\n",
    "        base_x, base_y, base_z = landmarks[0], landmarks[1], landmarks[2]\n",
    "        for idx, value in enumerate(landmarks):\n",
    "            if idx in range(0, 62, 3):\n",
    "                landmarks[idx] -= base_x\n",
    "            elif idx in range(1, 62, 3):\n",
    "                landmarks[idx] -= base_y\n",
    "            else:\n",
    "                landmarks[idx] -= base_z\n",
    "        \n",
    "        max_val = max(list(map(abs, landmarks)))\n",
    "        landmarks = landmarks / max_val\n",
    "        return landmarks\n",
    "    \n",
    "    def destroy(self):\n",
    "        self.cap.release()\n",
    "        cv2.destroyAllWindows()       "
   ]
  },
  {
   "cell_type": "code",
   "execution_count": null,
   "metadata": {},
   "outputs": [],
   "source": [
    "# Block - 04\n",
    "\n",
    "filename = \"temp.csv\"\n",
    "if not os.path.exists(filename):\n",
    "    df = pd.DataFrame().to_csv(filename)\n",
    "else:\n",
    "    df = pd.read_csv(filename)\n",
    "urdu_signs_mapper = {int(key) : value for key, value in urdu_signs_mapper.items()}\n",
    "signs = {key:[] for key in urdu_signs_mapper.keys()}\n",
    "signs = dict()\n",
    "temp_df = pd.DataFrame()"
   ]
  },
  {
   "cell_type": "markdown",
   "metadata": {},
   "source": [
    "**Capturing Images Workflow**\n",
    "\n",
    "1. **Input `1`**  \n",
    "   Start the image collection process.\n",
    "\n",
    "2. **Enter the Label**  \n",
    "   - Provide the label for the letter/sign (refer to the `urdu_signs_mapper` dictionary in *Block - 02*).  \n",
    "   - Example: If capturing images for \"Bay,\" enter `2` (or its corresponding Urdu letter).\n",
    "\n",
    "3. **Start Collecting Images**  \n",
    "   - Press `s` to begin capturing and storing images for the selected label.\n",
    "\n",
    "4. **Stop Capturing Images**  \n",
    "   - Press `q` to stop the image collection for the current label.\n",
    "\n",
    "5. **Save Data**  \n",
    "   - Input `0` to save the captured images and associated label data to your system.\n",
    "\n",
    "6. **Exit or Continue**  \n",
    "   - Input `0` again to exit the process.  \n",
    "   - Input any other number to restart the collection for another letter/sign."
   ]
  },
  {
   "cell_type": "code",
   "execution_count": null,
   "metadata": {},
   "outputs": [],
   "source": [
    "# Block - 05\n",
    "\n",
    "dc = DataCollection()\n",
    "option = int(input(\"Press 1 to start.\"))\n",
    "collected_labels = []\n",
    "temp_df = pd.DataFrame()\n",
    "while option == 1:\n",
    "    label = int(input(\"Enter label: \"))\n",
    "    if (label <= 0) or (label > 36):\n",
    "        print(\"You entered wrong label....\")\n",
    "        continue\n",
    "    temp = dc.capture_images(label)\n",
    "    choice = int(input(\"Press 0 to save your result\"))\n",
    "    if choice == 0:\n",
    "        signs[label] = []\n",
    "        for array in temp:\n",
    "            signs[label].append(array)\n",
    "            collected_labels.append(label)\n",
    "        temp = []\n",
    "    else:\n",
    "        temp = []\n",
    "    option = int(input(\"Press 0 to exit.\"))\n",
    "dc.destroy()"
   ]
  },
  {
   "cell_type": "code",
   "execution_count": null,
   "metadata": {},
   "outputs": [],
   "source": [
    "# Block - 06\n",
    "\n",
    "for label in pd.Series(collected_labels).unique().tolist():\n",
    "    temp = pd.DataFrame(signs[label])\n",
    "    temp['target'] = label\n",
    "    temp_df = pd.concat([temp_df, temp], axis=0, ignore_index=True)"
   ]
  },
  {
   "cell_type": "code",
   "execution_count": null,
   "metadata": {},
   "outputs": [],
   "source": [
    "# Block - 07\n",
    "\n",
    "temp_df.head()"
   ]
  },
  {
   "cell_type": "markdown",
   "metadata": {},
   "source": [
    "If you have gathered some data before and want to concatenate it with currently collected data, run `Block - 08`"
   ]
  },
  {
   "cell_type": "code",
   "execution_count": null,
   "metadata": {},
   "outputs": [],
   "source": [
    "# Block - 08\n",
    "\n",
    "df = pd.read_csv(\"handSign.csv\")\n",
    "columns = {str(i):i for i in range(63)}\n",
    "columns['target'] = 'target'\n",
    "df.rename(columns=columns, inplace=True)\n",
    "df = pd.concat([df, temp_df], axis=0)\n",
    "df.to_csv(\"handSign.csv\", index=False)"
   ]
  },
  {
   "cell_type": "code",
   "execution_count": null,
   "metadata": {},
   "outputs": [],
   "source": [
    "# Block - 09\n",
    "\n",
    "temp_df.to_csv(\"handSign.csv\", index=False)"
   ]
  }
 ],
 "metadata": {
  "kernelspec": {
   "display_name": "Python 3",
   "language": "python",
   "name": "python3"
  },
  "language_info": {
   "codemirror_mode": {
    "name": "ipython",
    "version": 3
   },
   "file_extension": ".py",
   "mimetype": "text/x-python",
   "name": "python",
   "nbconvert_exporter": "python",
   "pygments_lexer": "ipython3",
   "version": "3.10.0"
  }
 },
 "nbformat": 4,
 "nbformat_minor": 2
}
